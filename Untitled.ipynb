{
 "cells": [
  {
   "cell_type": "code",
   "execution_count": 21,
   "metadata": {},
   "outputs": [
    {
     "name": "stderr",
     "output_type": "stream",
     "text": [
      "[nltk_data] Downloading package stopwords to\n",
      "[nltk_data]     C:\\Users\\macia\\AppData\\Roaming\\nltk_data...\n",
      "[nltk_data]   Unzipping corpora\\stopwords.zip.\n",
      "[nltk_data] Downloading package wordnet to\n",
      "[nltk_data]     C:\\Users\\macia\\AppData\\Roaming\\nltk_data...\n",
      "[nltk_data]   Unzipping corpora\\wordnet.zip.\n"
     ]
    }
   ],
   "source": [
    "from gensim.models import Word2Vec\n",
    "import numpy as np\n",
    "import pandas as pd\n",
    "import emoji\n",
    "import string\n",
    "\n",
    "import nltk\n",
    "#nltk.download('punkt')\n",
    "from nltk import sent_tokenize, word_tokenize\n",
    "from nltk.tokenize import RegexpTokenizer\n",
    "from nltk.corpus import stopwords\n",
    "#nltk.download('stopwords')\n",
    "from nltk.stem import WordNetLemmatizer\n",
    "#nltk.download('wordnet')\n",
    "from collections import Counter\n"
   ]
  },
  {
   "cell_type": "code",
   "execution_count": 28,
   "metadata": {},
   "outputs": [
    {
     "name": "stdout",
     "output_type": "stream",
     "text": [
      "  class                                               text\n",
      "0   ham  Go until jurong point, crazy.. Available only ...\n",
      "1   ham                      Ok lar... Joking wif u oni...\n",
      "2  spam  Free entry in 2 a wkly comp to win FA Cup fina...\n",
      "3   ham  U dun say so early hor... U c already then say...\n",
      "4   ham  Nah I don't think he goes to usf, he lives aro...\n",
      "----------\n",
      "Data Shape: (5572, 2)\n",
      "----------\n",
      "Number of Missing data: class    0\n",
      "text     0\n",
      "dtype: int64\n",
      "----------\n",
      "13 %  of our data is classified as spam        text\n",
      "class      \n",
      "ham    4825\n",
      "spam    747\n"
     ]
    }
   ],
   "source": [
    "#path = \"/Users/miklp/Documents/GitHub/Student-Projects/datasets_483_982_spam.csv\"\n",
    "path = \"/Users/macia/Documents/MSIA-21/IRL-MSIA/datasets_483_982_spam.csv\"\n",
    "\n",
    "#path_1 = \"https://raw.githubusercontent.com/mowgl-i/Student-Projects/master/datasets_483_982_spam.csv\"\n",
    "with open(path) as file:\n",
    "    data = pd.read_csv(file)\n",
    "    \n",
    "data.columns = [\"class\",\"text\", \"none\",\"none\",\"none\"]\n",
    "\n",
    "data = data[[\"class\",\"text\"]]\n",
    "\n",
    "print(data.head())\n",
    "\n",
    "print(\"----------\")\n",
    "print(\"Data Shape:\",data.shape)\n",
    "\n",
    "print(\"----------\")\n",
    "print(\"Number of Missing data:\",data.isnull().sum())\n",
    "\n",
    "print(\"----------\")\n",
    "print(round(747/5572 * 100), \"%  of our data is classified as spam\",data.groupby(\"class\").count())\n",
    "#data = pd.read_csv(path_1) "
   ]
  },
  {
   "cell_type": "markdown",
   "metadata": {},
   "source": [
    "# Data preprocess\n"
   ]
  },
  {
   "cell_type": "code",
   "execution_count": 30,
   "metadata": {},
   "outputs": [
    {
     "data": {
      "text/html": [
       "<div>\n",
       "<style scoped>\n",
       "    .dataframe tbody tr th:only-of-type {\n",
       "        vertical-align: middle;\n",
       "    }\n",
       "\n",
       "    .dataframe tbody tr th {\n",
       "        vertical-align: top;\n",
       "    }\n",
       "\n",
       "    .dataframe thead th {\n",
       "        text-align: right;\n",
       "    }\n",
       "</style>\n",
       "<table border=\"1\" class=\"dataframe\">\n",
       "  <thead>\n",
       "    <tr style=\"text-align: right;\">\n",
       "      <th></th>\n",
       "      <th>class</th>\n",
       "      <th>text</th>\n",
       "      <th>ready_text</th>\n",
       "    </tr>\n",
       "  </thead>\n",
       "  <tbody>\n",
       "    <tr>\n",
       "      <th>0</th>\n",
       "      <td>ham</td>\n",
       "      <td>Go until jurong point, crazy.. Available only ...</td>\n",
       "      <td>[go, jurong, point, crazy, available, bugis, n...</td>\n",
       "    </tr>\n",
       "    <tr>\n",
       "      <th>1</th>\n",
       "      <td>ham</td>\n",
       "      <td>Ok lar... Joking wif u oni...</td>\n",
       "      <td>[ok, lar, joking, wif, u, oni]</td>\n",
       "    </tr>\n",
       "    <tr>\n",
       "      <th>2</th>\n",
       "      <td>spam</td>\n",
       "      <td>Free entry in 2 a wkly comp to win FA Cup fina...</td>\n",
       "      <td>[free, entry, 2, wkly, comp, win, fa, cup, fin...</td>\n",
       "    </tr>\n",
       "    <tr>\n",
       "      <th>3</th>\n",
       "      <td>ham</td>\n",
       "      <td>U dun say so early hor... U c already then say...</td>\n",
       "      <td>[u, dun, say, early, hor, u, c, already, say]</td>\n",
       "    </tr>\n",
       "    <tr>\n",
       "      <th>4</th>\n",
       "      <td>ham</td>\n",
       "      <td>Nah I don't think he goes to usf, he lives aro...</td>\n",
       "      <td>[nah, dont, think, go, usf, life, around, though]</td>\n",
       "    </tr>\n",
       "  </tbody>\n",
       "</table>\n",
       "</div>"
      ],
      "text/plain": [
       "  class                                               text  \\\n",
       "0   ham  Go until jurong point, crazy.. Available only ...   \n",
       "1   ham                      Ok lar... Joking wif u oni...   \n",
       "2  spam  Free entry in 2 a wkly comp to win FA Cup fina...   \n",
       "3   ham  U dun say so early hor... U c already then say...   \n",
       "4   ham  Nah I don't think he goes to usf, he lives aro...   \n",
       "\n",
       "                                          ready_text  \n",
       "0  [go, jurong, point, crazy, available, bugis, n...  \n",
       "1                     [ok, lar, joking, wif, u, oni]  \n",
       "2  [free, entry, 2, wkly, comp, win, fa, cup, fin...  \n",
       "3      [u, dun, say, early, hor, u, c, already, say]  \n",
       "4  [nah, dont, think, go, usf, life, around, though]  "
      ]
     },
     "execution_count": 30,
     "metadata": {},
     "output_type": "execute_result"
    }
   ],
   "source": [
    "def clean_text(text):\n",
    "    no_p = \"\".join([t for t in text if t  not in string.punctuation]) \n",
    "    tokenizer = RegexpTokenizer(r'\\w+')\n",
    "    tokens =  tokenizer.tokenize(no_p.lower())\n",
    "    no_s = [t for t in tokens if t not in stopwords.words('english')]\n",
    "    ready_text = [lemmatizer.lemmatize(i) for i in no_s]\n",
    "    return ready_text\n",
    "data['ready_text'] = data['text'].apply(lambda x: clean_text(x))\n",
    "\n",
    "data.head()"
   ]
  },
  {
   "cell_type": "markdown",
   "metadata": {},
   "source": [
    "\n",
    "def remove_punc(text):\n",
    "    no_p = \"\".join([c for c in text if c  not in string.punctuation])\n",
    "    return no_p\n",
    "\n",
    "data[\"text_nopunc\"] = data['text'].apply(lambda x: remove_punc(x))\n",
    "tokenizer = RegexpTokenizer(r'\\w+')\n",
    "data['text_nop_token'] = data['text_nopunc'].apply(lambda x: tokenizer.tokenize(x.lower()))\n",
    "\n",
    "def remove_stop(text):\n",
    "    no_s = [w for w in text if w not in stopwords.words('english')]\n",
    "    return no_s\n",
    "data['text_nop_token_stop'] = data['text_nop_token'].apply(lambda x: remove_stop(x))\n",
    "\n",
    "lemmatizer = WordNetLemmatizer()\n",
    "def word_lem(text):\n",
    "    ready_text = [lemmatizer.lemmatize(i) for i in text]\n",
    "    return ready_text\n",
    "data['ready_text'] = data['text_nop_token_stop'].apply(lambda x: word_lem(x))\n",
    "\n",
    "data.head()"
   ]
  }
 ],
 "metadata": {
  "kernelspec": {
   "display_name": "Python 3",
   "language": "python",
   "name": "python3"
  },
  "language_info": {
   "codemirror_mode": {
    "name": "ipython",
    "version": 3
   },
   "file_extension": ".py",
   "mimetype": "text/x-python",
   "name": "python",
   "nbconvert_exporter": "python",
   "pygments_lexer": "ipython3",
   "version": "3.7.3"
  }
 },
 "nbformat": 4,
 "nbformat_minor": 2
}
