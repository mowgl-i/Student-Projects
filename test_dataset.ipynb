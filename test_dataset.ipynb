{
 "cells": [
  {
   "cell_type": "code",
   "execution_count": 1,
   "metadata": {},
   "outputs": [],
   "source": [
    "from gensim.models import Word2Vec\n",
    "import numpy as np\n",
    "import pandas as pd\n",
    "import emoji\n",
    "import string\n",
    "\n",
    "import nltk\n",
    "#nltk.download('punkt')\n",
    "from nltk import sent_tokenize, word_tokenize\n",
    "from nltk.tokenize import RegexpTokenizer\n",
    "from nltk.corpus import stopwords\n",
    "#nltk.download('stopwords')\n",
    "from nltk.stem import WordNetLemmatizer\n",
    "#nltk.download('wordnet')\n",
    "from collections import Counter\n"
   ]
  },
  {
   "cell_type": "code",
   "execution_count": 3,
   "metadata": {},
   "outputs": [
    {
     "name": "stdout",
     "output_type": "stream",
     "text": [
      "  class                                               text\n",
      "0   ham  Go until jurong point, crazy.. Available only ...\n",
      "1   ham                      Ok lar... Joking wif u oni...\n",
      "2  spam  Free entry in 2 a wkly comp to win FA Cup fina...\n",
      "3   ham  U dun say so early hor... U c already then say...\n",
      "4   ham  Nah I don't think he goes to usf, he lives aro...\n",
      "----------\n",
      "Data Shape: (5572, 2)\n",
      "----------\n",
      "Number of Missing data: class    0\n",
      "text     0\n",
      "dtype: int64\n",
      "----------\n",
      "13 %  of our data is classified as spam        text\n",
      "class      \n",
      "ham    4825\n",
      "spam    747\n"
     ]
    }
   ],
   "source": [
    "path = \"/Users/miklp/Documents/GitHub/Student-Projects/datasets_483_982_spam.csv\"\n",
    "#path = \"/Users/macia/Documents/MSIA-21/IRL-MSIA/datasets_483_982_spam.csv\"\n",
    "\n",
    "#path_1 = \"https://raw.githubusercontent.com/mowgl-i/Student-Projects/master/datasets_483_982_spam.csv\"\n",
    "with open(path) as file:\n",
    "    data = pd.read_csv(file)\n",
    "    \n",
    "data.columns = [\"class\",\"text\", \"none\",\"none\",\"none\"]\n",
    "\n",
    "data = data[[\"class\",\"text\"]]\n",
    "\n",
    "print(data.head())\n",
    "\n",
    "print(\"----------\")\n",
    "print(\"Data Shape:\",data.shape)\n",
    "\n",
    "print(\"----------\")\n",
    "print(\"Number of Missing data:\",data.isnull().sum())\n",
    "\n",
    "print(\"----------\")\n",
    "print(round(747/5572 * 100), \"%  of our data is classified as spam\",data.groupby(\"class\").count())\n",
    "#data = pd.read_csv(path_1) "
   ]
  },
  {
   "cell_type": "markdown",
   "metadata": {},
   "source": [
    "# Data preprocess\n"
   ]
  },
  {
   "cell_type": "code",
   "execution_count": 4,
   "metadata": {},
   "outputs": [],
   "source": [
    "def clean_text(text):\n",
    "    no_p = \"\".join([t for t in text if t  not in string.punctuation]) \n",
    "    tokenizer = RegexpTokenizer(r'\\w+')\n",
    "    tokens =  tokenizer.tokenize(no_p.lower())\n",
    "    no_s = [t for t in tokens if t not in stopwords.words('english')]\n",
    "    lemmatizer = WordNetLemmatizer()\n",
    "    no_num = [t for t in no_s if t.isalpha()]\n",
    "    ready_text = [lemmatizer.lemmatize(i) for i in no_num]\n",
    "    return ready_text\n",
    "data['ready_text'] = data['text'].apply(lambda x: clean_text(x))\n",
    "\n",
    "ready_text_2 = data['text'].apply(lambda x: clean_text(x))\n"
   ]
  },
  {
   "cell_type": "code",
   "execution_count": 5,
   "metadata": {},
   "outputs": [
    {
     "name": "stdout",
     "output_type": "stream",
     "text": [
      "Word2Vec(vocab=7605, size=2, alpha=0.025)\n"
     ]
    },
    {
     "data": {
      "text/plain": [
       "(446033, 485990)"
      ]
     },
     "execution_count": 5,
     "metadata": {},
     "output_type": "execute_result"
    }
   ],
   "source": [
    "model = Word2Vec(ready_text_2, min_count = 1, window = 3, workers = 1, size =  2, seed = 1, sg = 1)\n",
    "print(model)\n",
    "\n",
    "model.train(sentences = ready_text_2, total_examples = 3, epochs = 10)\n"
   ]
  },
  {
   "cell_type": "code",
   "execution_count": 6,
   "metadata": {},
   "outputs": [
    {
     "data": {
      "text/plain": [
       "[('met', 1.0),\n",
       " ('pace', 1.0),\n",
       " ('slowly', 0.9999999403953552),\n",
       " ('rcd', 0.9999999403953552),\n",
       " ('nt', 0.9999999403953552),\n",
       " ('clock', 0.9999998807907104),\n",
       " ('yoga', 0.9999998807907104),\n",
       " ('amt', 0.9999998807907104),\n",
       " ('promise', 0.9999998807907104),\n",
       " ('definitely', 0.9999997615814209)]"
      ]
     },
     "execution_count": 6,
     "metadata": {},
     "output_type": "execute_result"
    }
   ],
   "source": [
    "model.wv.most_similar(['sex'])"
   ]
  },
  {
   "cell_type": "code",
   "execution_count": 12,
   "metadata": {},
   "outputs": [
    {
     "data": {
      "text/plain": [
       "[('apology', 1.0),\n",
       " ('radiator', 0.9999997615814209),\n",
       " ('vpod', 0.9999997615814209),\n",
       " ('fgkslpopw', 0.9999996423721313),\n",
       " ('lunch', 0.9999994039535522),\n",
       " ('abbey', 0.9999992847442627),\n",
       " ('census', 0.9999984502792358),\n",
       " ('entropication', 0.9999978542327881),\n",
       " ('fakeyes', 0.9999977350234985),\n",
       " ('ruin', 0.9999971985816956)]"
      ]
     },
     "execution_count": 12,
     "metadata": {},
     "output_type": "execute_result"
    }
   ],
   "source": [
    "model.wv.most_similar('home')"
   ]
  },
  {
   "cell_type": "code",
   "execution_count": 13,
   "metadata": {},
   "outputs": [
    {
     "data": {
      "text/plain": [
       "[('saristar', 1.0),\n",
       " ('stash', 0.9999998211860657),\n",
       " ('rakhesh', 0.9999995827674866),\n",
       " ('jordantxt', 0.9999991655349731),\n",
       " ('popped', 0.9999991655349731),\n",
       " ('destination', 0.9999987483024597),\n",
       " ('adjustable', 0.9999986886978149),\n",
       " ('hoped', 0.9999980926513672),\n",
       " ('plumber', 0.9999972581863403),\n",
       " ('win', 0.9999970197677612)]"
      ]
     },
     "execution_count": 13,
     "metadata": {},
     "output_type": "execute_result"
    }
   ],
   "source": [
    "model.wv.most_similar('call')"
   ]
  },
  {
   "cell_type": "code",
   "execution_count": 14,
   "metadata": {},
   "outputs": [
    {
     "data": {
      "text/plain": [
       "[('gotto', 1.0),\n",
       " ('boost', 1.0),\n",
       " ('smashed', 1.0),\n",
       " ('dict', 0.9999999403953552),\n",
       " ('eruku', 0.9999999403953552),\n",
       " ('trained', 0.9999999403953552),\n",
       " ('sofa', 0.9999998211860657),\n",
       " ('diesel', 0.9999997615814209),\n",
       " ('peace', 0.9999997019767761),\n",
       " ('software', 0.9999997019767761)]"
      ]
     },
     "execution_count": 14,
     "metadata": {},
     "output_type": "execute_result"
    }
   ],
   "source": [
    "model.wv.most_similar('date')"
   ]
  },
  {
   "cell_type": "code",
   "execution_count": 8,
   "metadata": {},
   "outputs": [
    {
     "data": {
      "text/plain": [
       "[('franxx', 1.0),\n",
       " ('listen', 1.0),\n",
       " ('shop', 0.9999999403953552),\n",
       " ('smsshsexnetun', 0.9999999403953552),\n",
       " ('glad', 0.9999999403953552),\n",
       " ('maretare', 0.9999999403953552),\n",
       " ('valentine', 0.9999999403953552),\n",
       " ('boutxx', 0.9999999403953552),\n",
       " ('ringsreturn', 0.9999997615814209),\n",
       " ('sheffield', 0.9999997019767761)]"
      ]
     },
     "execution_count": 8,
     "metadata": {},
     "output_type": "execute_result"
    }
   ],
   "source": [
    "model.wv.most_similar('jay')"
   ]
  },
  {
   "cell_type": "code",
   "execution_count": 9,
   "metadata": {},
   "outputs": [
    {
     "data": {
      "text/plain": [
       "[('todayhe', 1.0),\n",
       " ('envelope', 1.0),\n",
       " ('sexy', 1.0),\n",
       " ('except', 1.0),\n",
       " ('lastest', 0.9999999403953552),\n",
       " ('naughty', 0.9999999403953552),\n",
       " ('gprs', 0.9999999403953552),\n",
       " ('lay', 0.9999998807907104),\n",
       " ('pharmacy', 0.9999998807907104),\n",
       " ('corect', 0.9999998211860657)]"
      ]
     },
     "execution_count": 9,
     "metadata": {},
     "output_type": "execute_result"
    }
   ],
   "source": [
    "model.wv.most_similar('xxx')"
   ]
  },
  {
   "cell_type": "code",
   "execution_count": 10,
   "metadata": {},
   "outputs": [
    {
     "data": {
      "text/plain": [
       "[('wildlife', 0.9999998807907104),\n",
       " ('land', 0.9999997615814209),\n",
       " ('sexual', 0.9999995231628418),\n",
       " ('prize', 0.999999463558197),\n",
       " ('camera', 0.9999990463256836),\n",
       " ('ktv', 0.9999990463256836),\n",
       " ('messaged', 0.9999990463256836),\n",
       " ('bornplease', 0.9999988079071045),\n",
       " ('mobile', 0.9999984502792358),\n",
       " ('storelike', 0.9999964237213135)]"
      ]
     },
     "execution_count": 10,
     "metadata": {},
     "output_type": "execute_result"
    }
   ],
   "source": [
    "model.wv.most_similar('urgent')"
   ]
  },
  {
   "cell_type": "code",
   "execution_count": 15,
   "metadata": {},
   "outputs": [
    {
     "data": {
      "text/plain": [
       "[('president', 1.0),\n",
       " ('lot', 1.0),\n",
       " ('auto', 1.0),\n",
       " ('gate', 0.9999999403953552),\n",
       " ('broke', 0.9999998807907104),\n",
       " ('emigrated', 0.9999998807907104),\n",
       " ('avoiding', 0.9999998211860657),\n",
       " ('short', 0.9999998211860657),\n",
       " ('anot', 0.9999998211860657),\n",
       " ('deciding', 0.999999463558197)]"
      ]
     },
     "execution_count": 15,
     "metadata": {},
     "output_type": "execute_result"
    }
   ],
   "source": [
    "model.wv.most_similar('u')"
   ]
  },
  {
   "cell_type": "markdown",
   "metadata": {},
   "source": [
    "# Network Graph"
   ]
  },
  {
   "cell_type": "code",
   "execution_count": 7,
   "metadata": {},
   "outputs": [
    {
     "name": "stderr",
     "output_type": "stream",
     "text": [
      "C:\\Users\\miklp\\Anaconda3\\lib\\site-packages\\ipykernel_launcher.py:12: DeprecationWarning: Call to deprecated `__getitem__` (Method will be removed in 4.0.0, use self.wv.__getitem__() instead).\n",
      "  if sys.path[0] == '':\n"
     ]
    },
    {
     "data": {
      "text/plain": [
       "array([[2.2007167 , 0.36714   ],\n",
       "       [0.34247532, 0.379695  ],\n",
       "       [1.5336556 , 2.282799  ],\n",
       "       [1.4502181 , 0.76415914],\n",
       "       [1.6025608 , 0.79223317]], dtype=float32)"
      ]
     },
     "execution_count": 7,
     "metadata": {},
     "output_type": "execute_result"
    }
   ],
   "source": [
    "import networkx as nx\n",
    "from sklearn.feature_extraction.text import CountVectorizer, TfidfVectorizer\n",
    "\n",
    "t_vect = TfidfVectorizer(\n",
    "    tokenizer = lambda x: x,\n",
    "    preprocessor = lambda x: x)\n",
    "\n",
    "%matplotlib inline\n",
    "\n",
    "t_vect_vectors = t_vect.fit_transform(ready_text_2)\n",
    "\n",
    "model[model.wv.vocab][:5]"
   ]
  },
  {
   "cell_type": "code",
   "execution_count": 8,
   "metadata": {},
   "outputs": [
    {
     "data": {
      "text/plain": [
       "u       1183\n",
       "call     600\n",
       "im       462\n",
       "get      397\n",
       "ur       384\n",
       "go       304\n",
       "å        295\n",
       "dont     279\n",
       "ok       277\n",
       "ltgt     276\n",
       "dtype: int64"
      ]
     },
     "execution_count": 8,
     "metadata": {},
     "output_type": "execute_result"
    }
   ],
   "source": [
    "token_counts = ready_text_2.apply(pd.Series).stack().value_counts()\n",
    "token_counts.nlargest(10)"
   ]
  },
  {
   "cell_type": "code",
   "execution_count": 19,
   "metadata": {},
   "outputs": [
    {
     "data": {
      "text/plain": [
       "True"
      ]
     },
     "execution_count": 19,
     "metadata": {},
     "output_type": "execute_result"
    }
   ],
   "source": [
    "len(t_vect.vocabulary_) == len(token_counts)"
   ]
  },
  {
   "cell_type": "code",
   "execution_count": 20,
   "metadata": {},
   "outputs": [
    {
     "data": {
      "text/plain": [
       "array([8.93254161, 8.23939443, 8.93254161, ..., 8.93254161, 7.67977864,\n",
       "       8.93254161])"
      ]
     },
     "execution_count": 20,
     "metadata": {},
     "output_type": "execute_result"
    }
   ],
   "source": [
    "t_vect.idf_"
   ]
  },
  {
   "cell_type": "code",
   "execution_count": 21,
   "metadata": {},
   "outputs": [
    {
     "data": {
      "text/html": [
       "<div>\n",
       "<style scoped>\n",
       "    .dataframe tbody tr th:only-of-type {\n",
       "        vertical-align: middle;\n",
       "    }\n",
       "\n",
       "    .dataframe tbody tr th {\n",
       "        vertical-align: top;\n",
       "    }\n",
       "\n",
       "    .dataframe thead th {\n",
       "        text-align: right;\n",
       "    }\n",
       "</style>\n",
       "<table border=\"1\" class=\"dataframe\">\n",
       "  <thead>\n",
       "    <tr style=\"text-align: right;\">\n",
       "      <th></th>\n",
       "      <th>idf_weights</th>\n",
       "    </tr>\n",
       "  </thead>\n",
       "  <tbody>\n",
       "    <tr>\n",
       "      <th>aa</th>\n",
       "      <td>8.932542</td>\n",
       "    </tr>\n",
       "    <tr>\n",
       "      <th>aah</th>\n",
       "      <td>8.239394</td>\n",
       "    </tr>\n",
       "    <tr>\n",
       "      <th>aaniye</th>\n",
       "      <td>8.932542</td>\n",
       "    </tr>\n",
       "    <tr>\n",
       "      <th>aaooooright</th>\n",
       "      <td>8.932542</td>\n",
       "    </tr>\n",
       "    <tr>\n",
       "      <th>aathilove</th>\n",
       "      <td>8.239394</td>\n",
       "    </tr>\n",
       "    <tr>\n",
       "      <th>...</th>\n",
       "      <td>...</td>\n",
       "    </tr>\n",
       "    <tr>\n",
       "      <th>ûªve</th>\n",
       "      <td>8.932542</td>\n",
       "    </tr>\n",
       "    <tr>\n",
       "      <th>ûï</th>\n",
       "      <td>8.932542</td>\n",
       "    </tr>\n",
       "    <tr>\n",
       "      <th>ûïharry</th>\n",
       "      <td>8.932542</td>\n",
       "    </tr>\n",
       "    <tr>\n",
       "      <th>ûò</th>\n",
       "      <td>7.679779</td>\n",
       "    </tr>\n",
       "    <tr>\n",
       "      <th>ûówell</th>\n",
       "      <td>8.932542</td>\n",
       "    </tr>\n",
       "  </tbody>\n",
       "</table>\n",
       "<p>7605 rows × 1 columns</p>\n",
       "</div>"
      ],
      "text/plain": [
       "             idf_weights\n",
       "aa              8.932542\n",
       "aah             8.239394\n",
       "aaniye          8.932542\n",
       "aaooooright     8.932542\n",
       "aathilove       8.239394\n",
       "...                  ...\n",
       "ûªve            8.932542\n",
       "ûï              8.932542\n",
       "ûïharry         8.932542\n",
       "ûò              7.679779\n",
       "ûówell          8.932542\n",
       "\n",
       "[7605 rows x 1 columns]"
      ]
     },
     "execution_count": 21,
     "metadata": {},
     "output_type": "execute_result"
    }
   ],
   "source": [
    "pd.DataFrame(t_vect.idf_, index=t_vect.get_feature_names(),columns=[\"idf_weights\"])"
   ]
  },
  {
   "cell_type": "code",
   "execution_count": null,
   "metadata": {},
   "outputs": [],
   "source": [
    "\n",
    "from itertools import combinations\n",
    "\n",
    "word_pairs = list(combinations(list(model.wv.vocab.keys()),2))\n",
    "tweet_graph = nx.Graph()\n",
    "\n",
    "for word_count in token_counts.iteritems():\n",
    "    tweet_graph.add_node(word_count[0],count=word_count[1])\n",
    "\n",
    "for pair in word_pairs:\n",
    "    edge_weight = model.wv.similarity(pair[0],pair[1])\n",
    "    if edge_weight > .80:\n",
    "        tweet_graph.add_edge(pair[0],pair[1],weight=edge_weight)\n",
    "\n",
    "nx.write_gexf(tweet_graph,path=r'./tweet_graph.gexf') "
   ]
  },
  {
   "cell_type": "code",
   "execution_count": 31,
   "metadata": {},
   "outputs": [
    {
     "ename": "IndentationError",
     "evalue": "unindent does not match any outer indentation level (<tokenize>, line 9)",
     "output_type": "error",
     "traceback": [
      "\u001b[1;36m  File \u001b[1;32m\"<tokenize>\"\u001b[1;36m, line \u001b[1;32m9\u001b[0m\n\u001b[1;33m    tweet_graph.add_node(t_vect.get_feature_names()[word_count],tfidf=t_vect.idf_[word_count])\u001b[0m\n\u001b[1;37m    ^\u001b[0m\n\u001b[1;31mIndentationError\u001b[0m\u001b[1;31m:\u001b[0m unindent does not match any outer indentation level\n"
     ]
    }
   ],
   "source": [
    "num_words = 10\n",
    "tweet_graph = nx.Graph()\n",
    "    for word_count in token_counts.iteritems():\n",
    "    for word_count in t_vect.vocabulary_.items():\n",
    "        tweet_graph.add_node(word_count[0],count=word_count[1])\n",
    "\n",
    "for word_count in range(len(t_vect.idf_)):\n",
    "        tweet_graph.add_node(word_count[0],tfidf=word_count[1])\n",
    "    tweet_graph.add_node(t_vect.get_feature_names()[word_count],tfidf=t_vect.idf_[word_count])\n",
    "\n",
    "for word in list(opt_vector_model.wv.vocab.keys()):\n",
    "    word_scores = opt_vector_model.wv.most_similar(word, topn=num_words)\n",
    "    for i in range(num_words):\n",
    "        tweet_graph.add_edge(word,word_scores[i][0],weight=word_scores[i][1])\n",
    "nx.write_gexf(tweet_graph,path=f'./tweet_graph_{num_words}_tfidf.gexf')"
   ]
  }
 ],
 "metadata": {
  "kernelspec": {
   "display_name": "Python 3",
   "language": "python",
   "name": "python3"
  },
  "language_info": {
   "codemirror_mode": {
    "name": "ipython",
    "version": 3
   },
   "file_extension": ".py",
   "mimetype": "text/x-python",
   "name": "python",
   "nbconvert_exporter": "python",
   "pygments_lexer": "ipython3",
   "version": "3.7.3"
  }
 },
 "nbformat": 4,
 "nbformat_minor": 2
}
