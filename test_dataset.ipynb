{
 "cells": [
  {
   "cell_type": "code",
   "execution_count": 63,
   "metadata": {},
   "outputs": [],
   "source": [
    "from gensim.models import Word2Vec\n",
    "import numpy as np\n",
    "import pandas as pd\n",
    "import emoji\n",
    "import string\n",
    "\n",
    "import nltk\n",
    "#nltk.download('punkt')\n",
    "from nltk import sent_tokenize, word_tokenize\n",
    "from nltk.tokenize import RegexpTokenizer\n",
    "from nltk.corpus import stopwords\n",
    "#nltk.download('stopwords')\n",
    "from nltk.stem import WordNetLemmatizer\n",
    "#nltk.download('wordnet')\n",
    "from collections import Counter\n",
    "import matplotlib.pyplot as plt"
   ]
  },
  {
   "cell_type": "code",
   "execution_count": 2,
   "metadata": {},
   "outputs": [
    {
     "name": "stdout",
     "output_type": "stream",
     "text": [
      "  class                                               text\n",
      "0   ham  Go until jurong point, crazy.. Available only ...\n",
      "1   ham                      Ok lar... Joking wif u oni...\n",
      "2  spam  Free entry in 2 a wkly comp to win FA Cup fina...\n",
      "3   ham  U dun say so early hor... U c already then say...\n",
      "4   ham  Nah I don't think he goes to usf, he lives aro...\n",
      "----------\n",
      "Data Shape: (5572, 2)\n",
      "----------\n",
      "Number of Missing data: class    0\n",
      "text     0\n",
      "dtype: int64\n",
      "----------\n",
      "13 %  of our data is classified as spam        text\n",
      "class      \n",
      "ham    4825\n",
      "spam    747\n"
     ]
    }
   ],
   "source": [
    "#path = \"/Users/miklp/Documents/GitHub/Student-Projects/datasets_483_982_spam.csv\"\n",
    "path = \"/Users/macia/Documents/MSIA-21/IRL-MSIA/datasets_483_982_spam.csv\"\n",
    "\n",
    "#path_1 = \"https://raw.githubusercontent.com/mowgl-i/Student-Projects/master/datasets_483_982_spam.csv\"\n",
    "with open(path) as file:\n",
    "    data = pd.read_csv(file)\n",
    "    \n",
    "data.columns = [\"class\",\"text\", \"none\",\"none\",\"none\"]\n",
    "\n",
    "data = data[[\"class\",\"text\"]]\n",
    "\n",
    "print(data.head())\n",
    "\n",
    "print(\"----------\")\n",
    "print(\"Data Shape:\",data.shape)\n",
    "\n",
    "print(\"----------\")\n",
    "print(\"Number of Missing data:\",data.isnull().sum())\n",
    "\n",
    "print(\"----------\")\n",
    "print(round(747/5572 * 100), \"%  of our data is classified as spam\",data.groupby(\"class\").count())\n",
    "#data = pd.read_csv(path_1) "
   ]
  },
  {
   "cell_type": "markdown",
   "metadata": {},
   "source": [
    "# Data preprocess\n"
   ]
  },
  {
   "cell_type": "code",
   "execution_count": 3,
   "metadata": {},
   "outputs": [],
   "source": [
    "def clean_text(text):\n",
    "    no_p = \"\".join([t for t in text if t  not in string.punctuation]) \n",
    "    tokenizer = RegexpTokenizer(r'\\w+')\n",
    "    tokens =  tokenizer.tokenize(no_p.lower())\n",
    "    no_s = [t for t in tokens if t not in stopwords.words('english')]\n",
    "    lemmatizer = WordNetLemmatizer()\n",
    "    no_num = [t for t in no_s if t.isalpha()]\n",
    "    ready_text = [lemmatizer.lemmatize(i) for i in no_num]\n",
    "    return ready_text\n",
    "data['ready_text'] = data['text'].apply(lambda x: clean_text(x))\n",
    "\n",
    "ready_text_2 = data['text'].apply(lambda x: clean_text(x))\n"
   ]
  },
  {
   "cell_type": "markdown",
   "metadata": {},
   "source": [
    "### let's use a smaller dataset for now."
   ]
  },
  {
   "cell_type": "code",
   "execution_count": 8,
   "metadata": {},
   "outputs": [],
   "source": [
    "ready_text_3 = ready_text_2[0:100]"
   ]
  },
  {
   "cell_type": "code",
   "execution_count": 27,
   "metadata": {},
   "outputs": [
    {
     "name": "stdout",
     "output_type": "stream",
     "text": [
      "Word2Vec(vocab=577, size=2, alpha=0.025)\n"
     ]
    },
    {
     "data": {
      "text/plain": [
       "(8014, 9260)"
      ]
     },
     "execution_count": 27,
     "metadata": {},
     "output_type": "execute_result"
    }
   ],
   "source": [
    "model = Word2Vec(ready_text_3, min_count = 1, window = 4, workers = 2, size =  2, seed = 1, sg = 1)\n",
    "print(model)\n",
    "\n",
    "model.train(sentences = ready_text_3, total_examples = 3, epochs = 10)\n"
   ]
  },
  {
   "cell_type": "code",
   "execution_count": 18,
   "metadata": {},
   "outputs": [
    {
     "data": {
      "text/plain": [
       "[('b', 0.9999490976333618),\n",
       " ('fair', 0.9999352693557739),\n",
       " ('used', 0.99990314245224),\n",
       " ('granted', 0.9999020099639893),\n",
       " ('fulfil', 0.9999011158943176),\n",
       " ('try', 0.9998875856399536),\n",
       " ('left', 0.9998664855957031),\n",
       " ('plane', 0.9998183250427246),\n",
       " ('arabian', 0.9998107552528381),\n",
       " ('never', 0.9998044967651367)]"
      ]
     },
     "execution_count": 18,
     "metadata": {},
     "output_type": "execute_result"
    }
   ],
   "source": [
    "model.wv.most_similar(['crazy'])"
   ]
  },
  {
   "cell_type": "code",
   "execution_count": 19,
   "metadata": {},
   "outputs": [
    {
     "data": {
      "text/plain": [
       "[('urgent', 0.9999925494194031),\n",
       " ('slice', 0.999908447265625),\n",
       " ('catch', 0.9997038841247559),\n",
       " ('havent', 0.9996912479400635),\n",
       " ('ken', 0.9994632005691528),\n",
       " ('dont', 0.999120831489563),\n",
       " ('wait', 0.9989949464797974),\n",
       " ('smarter', 0.998271644115448),\n",
       " ('frnds', 0.9982669949531555),\n",
       " ('getting', 0.9981332421302795)]"
      ]
     },
     "execution_count": 19,
     "metadata": {},
     "output_type": "execute_result"
    }
   ],
   "source": [
    "model.wv.most_similar('home')"
   ]
  },
  {
   "cell_type": "code",
   "execution_count": 20,
   "metadata": {},
   "outputs": [
    {
     "data": {
      "text/plain": [
       "[('later', 0.9999998211860657),\n",
       " ('yummy', 0.9999992251396179),\n",
       " ('around', 0.9999881982803345),\n",
       " ('e', 0.9999801516532898),\n",
       " ('im', 0.9999297857284546),\n",
       " ('u', 0.9998209476470947),\n",
       " ('beforehand', 0.9997919797897339),\n",
       " ('want', 0.9997065663337708),\n",
       " ('work', 0.9996907114982605),\n",
       " ('week', 0.9996808767318726)]"
      ]
     },
     "execution_count": 20,
     "metadata": {},
     "output_type": "execute_result"
    }
   ],
   "source": [
    "model.wv.most_similar('call')"
   ]
  },
  {
   "cell_type": "markdown",
   "metadata": {},
   "source": [
    "# Network Graph"
   ]
  },
  {
   "cell_type": "code",
   "execution_count": 43,
   "metadata": {},
   "outputs": [
    {
     "name": "stderr",
     "output_type": "stream",
     "text": [
      "C:\\Users\\macia\\Anaconda3\\lib\\site-packages\\ipykernel_launcher.py:13: DeprecationWarning: Call to deprecated `__getitem__` (Method will be removed in 4.0.0, use self.wv.__getitem__() instead).\n",
      "  del sys.path[0]\n"
     ]
    },
    {
     "data": {
      "text/plain": [
       "array([[-0.26685187,  0.18557824],\n",
       "       [-0.19026826,  0.17533377],\n",
       "       [ 0.04921602, -0.07592332],\n",
       "       [-0.1599156 , -0.15432242],\n",
       "       [ 0.17856683,  0.05245701]], dtype=float32)"
      ]
     },
     "execution_count": 43,
     "metadata": {},
     "output_type": "execute_result"
    }
   ],
   "source": [
    "import networkx as nx\n",
    "from sklearn.feature_extraction.text import CountVectorizer, TfidfVectorizer\n",
    "\n",
    "t_vect = TfidfVectorizer(\n",
    "    tokenizer = lambda x: x,\n",
    "    preprocessor = lambda x: x)\n",
    "\n",
    "%matplotlib inline\n",
    "\n",
    "t_vect_vectors = t_vect.fit_transform(ready_text_3)\n",
    "\n",
    "\n",
    "model[model.wv.vocab][:5]"
   ]
  },
  {
   "cell_type": "code",
   "execution_count": 48,
   "metadata": {},
   "outputs": [
    {
     "data": {
      "text/plain": [
       "u        18\n",
       "call     14\n",
       "im       13\n",
       "free     10\n",
       "like      9\n",
       "go        8\n",
       "dont      8\n",
       "sorry     8\n",
       "å         8\n",
       "ok        8\n",
       "dtype: int64"
      ]
     },
     "execution_count": 48,
     "metadata": {},
     "output_type": "execute_result"
    }
   ],
   "source": [
    "token_counts = ready_text_3.apply(pd.Series).stack().value_counts()\n",
    "token_counts.nlargest(10)"
   ]
  },
  {
   "cell_type": "code",
   "execution_count": 50,
   "metadata": {},
   "outputs": [
    {
     "data": {
      "text/plain": [
       "True"
      ]
     },
     "execution_count": 50,
     "metadata": {},
     "output_type": "execute_result"
    }
   ],
   "source": [
    "len(t_vect.vocabulary_) == len(token_counts)"
   ]
  },
  {
   "cell_type": "code",
   "execution_count": 53,
   "metadata": {},
   "outputs": [
    {
     "data": {
      "text/plain": [
       "array([4.92197334, 4.92197334, 4.92197334, 4.92197334, 4.92197334,\n",
       "       4.92197334, 4.92197334, 4.51650823, 4.92197334, 4.92197334,\n",
       "       4.92197334, 4.92197334, 4.92197334, 3.82336105, 4.92197334])"
      ]
     },
     "execution_count": 53,
     "metadata": {},
     "output_type": "execute_result"
    }
   ],
   "source": [
    "t_vect.idf_[0:15]"
   ]
  },
  {
   "cell_type": "code",
   "execution_count": 54,
   "metadata": {},
   "outputs": [
    {
     "data": {
      "text/html": [
       "<div>\n",
       "<style scoped>\n",
       "    .dataframe tbody tr th:only-of-type {\n",
       "        vertical-align: middle;\n",
       "    }\n",
       "\n",
       "    .dataframe tbody tr th {\n",
       "        vertical-align: top;\n",
       "    }\n",
       "\n",
       "    .dataframe thead th {\n",
       "        text-align: right;\n",
       "    }\n",
       "</style>\n",
       "<table border=\"1\" class=\"dataframe\">\n",
       "  <thead>\n",
       "    <tr style=\"text-align: right;\">\n",
       "      <th></th>\n",
       "      <th>idf_weights</th>\n",
       "    </tr>\n",
       "  </thead>\n",
       "  <tbody>\n",
       "    <tr>\n",
       "      <th>abiola</th>\n",
       "      <td>4.921973</td>\n",
       "    </tr>\n",
       "    <tr>\n",
       "      <th>abt</th>\n",
       "      <td>4.921973</td>\n",
       "    </tr>\n",
       "    <tr>\n",
       "      <th>ac</th>\n",
       "      <td>4.921973</td>\n",
       "    </tr>\n",
       "    <tr>\n",
       "      <th>accomodations</th>\n",
       "      <td>4.921973</td>\n",
       "    </tr>\n",
       "    <tr>\n",
       "      <th>actin</th>\n",
       "      <td>4.921973</td>\n",
       "    </tr>\n",
       "    <tr>\n",
       "      <th>...</th>\n",
       "      <td>...</td>\n",
       "    </tr>\n",
       "    <tr>\n",
       "      <th>yummy</th>\n",
       "      <td>4.921973</td>\n",
       "    </tr>\n",
       "    <tr>\n",
       "      <th>yup</th>\n",
       "      <td>4.516508</td>\n",
       "    </tr>\n",
       "    <tr>\n",
       "      <th>å</th>\n",
       "      <td>3.535679</td>\n",
       "    </tr>\n",
       "    <tr>\n",
       "      <th>ì</th>\n",
       "      <td>4.516508</td>\n",
       "    </tr>\n",
       "    <tr>\n",
       "      <th>û</th>\n",
       "      <td>4.516508</td>\n",
       "    </tr>\n",
       "  </tbody>\n",
       "</table>\n",
       "<p>577 rows × 1 columns</p>\n",
       "</div>"
      ],
      "text/plain": [
       "               idf_weights\n",
       "abiola            4.921973\n",
       "abt               4.921973\n",
       "ac                4.921973\n",
       "accomodations     4.921973\n",
       "actin             4.921973\n",
       "...                    ...\n",
       "yummy             4.921973\n",
       "yup               4.516508\n",
       "å                 3.535679\n",
       "ì                 4.516508\n",
       "û                 4.516508\n",
       "\n",
       "[577 rows x 1 columns]"
      ]
     },
     "execution_count": 54,
     "metadata": {},
     "output_type": "execute_result"
    }
   ],
   "source": [
    "pd.DataFrame(t_vect.idf_, index=t_vect.get_feature_names(),columns=[\"idf_weights\"])"
   ]
  },
  {
   "cell_type": "code",
   "execution_count": 99,
   "metadata": {},
   "outputs": [],
   "source": [
    "\n",
    "from itertools import combinations\n",
    "\n",
    "word_pairs = list(combinations(list(model.wv.vocab.keys()),2))"
   ]
  },
  {
   "cell_type": "code",
   "execution_count": 123,
   "metadata": {},
   "outputs": [
    {
     "name": "stdout",
     "output_type": "stream",
     "text": [
      "[0.9906416, -0.9256644, 0.19429585, -0.6267785, 0.63718593, 0.9699481, 0.39329907, 0.09028146, 0.39763972, 0.9186888]\n",
      "[('go', 'jurong'), ('go', 'point'), ('go', 'crazy'), ('go', 'available'), ('go', 'bugis'), ('go', 'n'), ('go', 'great'), ('go', 'world'), ('go', 'la'), ('go', 'e')]\n"
     ]
    }
   ],
   "source": [
    "Edge_weight_test = []\n",
    "for pair in word_pairs:\n",
    "    edge_weight = model.wv.similarity(pair[0],pair[1])\n",
    "    Edge_weight_test.append(edge_weight)\n",
    "print(Edge_weight_test[0:10])\n",
    "print(word_pairs[0:10])"
   ]
  },
  {
   "cell_type": "code",
   "execution_count": 187,
   "metadata": {},
   "outputs": [],
   "source": [
    "test = []\n",
    "for word_count in token_counts.items():\n",
    "   test.append(word_count)\n",
    "\n"
   ]
  },
  {
   "cell_type": "code",
   "execution_count": 190,
   "metadata": {},
   "outputs": [
    {
     "data": {
      "image/png": "[encoded data removed]",
      "text/plain": [
       "<Figure size 432x288 with 1 Axes>"
      ]
     },
     "metadata": {},
     "output_type": "display_data"
    }
   ],
   "source": [
    "testgraph = nx.Graph()\n",
    "for n in test:\n",
    "    testgraph.add_node(n[0])\n",
    "\n",
    "for pair in word_pairs:\n",
    "    edge_weight = model.wv.similarity(pair[0],pair[1])\n",
    "    if edge_weight > .99999:\n",
    "        testgraph.add_edge(pair[0],pair[1],weight = edge_weight)\n",
    "nx.draw(testgraph)\n",
    "plt.show()\n",
    "\n",
    "    "
   ]
  },
  {
   "cell_type": "code",
   "execution_count": 213,
   "metadata": {},
   "outputs": [
    {
     "name": "stdout",
     "output_type": "stream",
     "text": [
      "Collecting nxviz\n",
      "  Using cached https://files.pythonhosted.org/packages/d3/7b/b2b063f8c1e0e055036bc8c3e41b3ed1a45f02bb47f4db3aff1d630509e1/nxviz-0.6.2-py3-none-any.whl\n",
      "Collecting matplotlib==3.1.1 (from nxviz)\n",
      "  Using cached https://files.pythonhosted.org/packages/1a/c0/69e3f695d7384012e90be1e16570c08953baae00fd98094179ef87c7d5a2/matplotlib-3.1.1-cp37-cp37m-win_amd64.whl\n",
      "Requirement already satisfied: cryptography==2.7 in c:\\users\\macia\\anaconda3\\lib\\site-packages (from nxviz) (2.7)\n",
      "Requirement already satisfied: setuptools==41.2.0 in c:\\users\\macia\\anaconda3\\lib\\site-packages (from nxviz) (41.2.0)\n",
      "Requirement already satisfied: seaborn==0.9.0 in c:\\users\\macia\\anaconda3\\lib\\site-packages (from nxviz) (0.9.0)\n",
      "Collecting hypothesis==4.34.0 (from nxviz)\n",
      "  Using cached https://files.pythonhosted.org/packages/20/5b/229ae2b481c779988cd32fb8ff99d3633af963576964a5b8629bddde747d/hypothesis-4.34.0-py3-none-any.whl\n",
      "Collecting pandas==0.25.1 (from nxviz)\n",
      "  Using cached https://files.pythonhosted.org/packages/b1/69/fcc29820befae2b96fd0b01225577af653e87cd0914634bb2d372a457bd7/pandas-0.25.1-cp37-cp37m-win_amd64.whl\n",
      "Requirement already satisfied: networkx==2.3 in c:\\users\\macia\\anaconda3\\lib\\site-packages (from nxviz) (2.3)\n",
      "Requirement already satisfied: numpy==1.17.1 in c:\\users\\macia\\anaconda3\\lib\\site-packages (from nxviz) (1.17.1)\n",
      "Collecting PyYAML==5.1.2 (from nxviz)\n",
      "  Using cached https://files.pythonhosted.org/packages/bc/3f/4f733cd0b1b675f34beb290d465a65e0f06b492c00b111d1b75125062de1/PyYAML-5.1.2-cp37-cp37m-win_amd64.whl\n",
      "Collecting pytest==5.1.2 (from nxviz)\n",
      "  Using cached https://files.pythonhosted.org/packages/2f/19/d5f71752f71451ccc5ed5f6739e9da4a235f38783fdaf3629cae41b2ca7b/pytest-5.1.2-py3-none-any.whl\n",
      "Collecting more-itertools==7.2.0 (from nxviz)\n",
      "  Using cached https://files.pythonhosted.org/packages/45/dc/3241eef99eb45f1def35cf93af35d1cf9ef4c0991792583b8f33ea41b092/more_itertools-7.2.0-py3-none-any.whl\n",
      "Requirement already satisfied: sphinxcontrib-fulltoc==1.2.0 in c:\\users\\macia\\anaconda3\\lib\\site-packages (from nxviz) (1.2.0)\n",
      "Collecting palettable==3.1.1 (from nxviz)\n",
      "  Using cached https://files.pythonhosted.org/packages/56/8a/84537c0354f0d1f03bf644b71bf8e0a50db9c1294181905721a5f3efbf66/palettable-3.1.1-py2.py3-none-any.whl\n",
      "Requirement already satisfied: kiwisolver>=1.0.1 in c:\\users\\macia\\anaconda3\\lib\\site-packages (from matplotlib==3.1.1->nxviz) (1.1.0)\n",
      "Requirement already satisfied: python-dateutil>=2.1 in c:\\users\\macia\\anaconda3\\lib\\site-packages (from matplotlib==3.1.1->nxviz) (2.8.0)\n",
      "Requirement already satisfied: pyparsing!=2.0.4,!=2.1.2,!=2.1.6,>=2.0.1 in c:\\users\\macia\\anaconda3\\lib\\site-packages (from matplotlib==3.1.1->nxviz) (2.4.0)\n",
      "Requirement already satisfied: cycler>=0.10 in c:\\users\\macia\\anaconda3\\lib\\site-packages (from matplotlib==3.1.1->nxviz) (0.10.0)\n",
      "Requirement already satisfied: asn1crypto>=0.21.0 in c:\\users\\macia\\anaconda3\\lib\\site-packages (from cryptography==2.7->nxviz) (0.24.0)\n",
      "Requirement already satisfied: six>=1.4.1 in c:\\users\\macia\\anaconda3\\lib\\site-packages (from cryptography==2.7->nxviz) (1.12.0)\n",
      "Requirement already satisfied: cffi!=1.11.3,>=1.8 in c:\\users\\macia\\anaconda3\\lib\\site-packages (from cryptography==2.7->nxviz) (1.12.3)\n",
      "Requirement already satisfied: scipy>=0.14.0 in c:\\users\\macia\\anaconda3\\lib\\site-packages (from seaborn==0.9.0->nxviz) (1.2.1)\n",
      "Requirement already satisfied: attrs>=16.0.0 in c:\\users\\macia\\anaconda3\\lib\\site-packages (from hypothesis==4.34.0->nxviz) (19.1.0)\n",
      "Requirement already satisfied: pytz>=2017.2 in c:\\users\\macia\\anaconda3\\lib\\site-packages (from pandas==0.25.1->nxviz) (2019.1)\n",
      "Requirement already satisfied: decorator>=4.3.0 in c:\\users\\macia\\anaconda3\\lib\\site-packages (from networkx==2.3->nxviz) (4.4.0)\n",
      "Requirement already satisfied: pluggy<1.0,>=0.12 in c:\\users\\macia\\anaconda3\\lib\\site-packages (from pytest==5.1.2->nxviz) (0.12.0)\n",
      "Requirement already satisfied: importlib-metadata>=0.12; python_version < \"3.8\" in c:\\users\\macia\\anaconda3\\lib\\site-packages (from pytest==5.1.2->nxviz) (0.17)\n",
      "Requirement already satisfied: wcwidth in c:\\users\\macia\\anaconda3\\lib\\site-packages (from pytest==5.1.2->nxviz) (0.1.7)\n",
      "Requirement already satisfied: atomicwrites>=1.0 in c:\\users\\macia\\anaconda3\\lib\\site-packages (from pytest==5.1.2->nxviz) (1.3.0)\n",
      "Requirement already satisfied: colorama; sys_platform == \"win32\" in c:\\users\\macia\\anaconda3\\lib\\site-packages (from pytest==5.1.2->nxviz) (0.4.1)\n",
      "Requirement already satisfied: py>=1.5.0 in c:\\users\\macia\\anaconda3\\lib\\site-packages (from pytest==5.1.2->nxviz) (1.8.0)\n",
      "Requirement already satisfied: packaging in c:\\users\\macia\\anaconda3\\lib\\site-packages (from pytest==5.1.2->nxviz) (19.0)\n",
      "Requirement already satisfied: pycparser in c:\\users\\macia\\anaconda3\\lib\\site-packages (from cffi!=1.11.3,>=1.8->cryptography==2.7->nxviz) (2.19)\n",
      "Requirement already satisfied: zipp>=0.5 in c:\\users\\macia\\anaconda3\\lib\\site-packages (from importlib-metadata>=0.12; python_version < \"3.8\"->pytest==5.1.2->nxviz) (0.5.1)\n",
      "Installing collected packages: matplotlib, hypothesis, pandas, PyYAML, more-itertools, pytest, palettable, nxviz\n",
      "Successfully installed PyYAML-5.1.2 hypothesis-4.34.0 matplotlib-3.1.1 more-itertools-7.2.0 nxviz-0.6.2 palettable-3.1.1 pandas-0.25.1 pytest-5.1.2\n"
     ]
    },
    {
     "name": "stderr",
     "output_type": "stream",
     "text": [
      "  WARNING: The scripts py.test.exe and pytest.exe are installed in 'C:\\Users\\macia\\AppData\\Roaming\\Python\\Python37\\Scripts' which is not on PATH.\n",
      "  Consider adding this directory to PATH or, if you prefer to suppress this warning, use --no-warn-script-location.\n"
     ]
    },
    {
     "ename": "ModuleNotFoundError",
     "evalue": "No module named 'nxviz'",
     "output_type": "error",
     "traceback": [
      "\u001b[1;31m---------------------------------------------------------------------------\u001b[0m",
      "\u001b[1;31mModuleNotFoundError\u001b[0m                       Traceback (most recent call last)",
      "\u001b[1;32m<ipython-input-213-4b3ea35d77e9>\u001b[0m in \u001b[0;36m<module>\u001b[1;34m\u001b[0m\n\u001b[0;32m      1\u001b[0m \u001b[0mget_ipython\u001b[0m\u001b[1;33m(\u001b[0m\u001b[1;33m)\u001b[0m\u001b[1;33m.\u001b[0m\u001b[0msystem\u001b[0m\u001b[1;33m(\u001b[0m\u001b[1;34m'pip install --user nxviz'\u001b[0m\u001b[1;33m)\u001b[0m\u001b[1;33m\u001b[0m\u001b[1;33m\u001b[0m\u001b[0m\n\u001b[1;32m----> 2\u001b[1;33m \u001b[1;32mfrom\u001b[0m \u001b[0mnxviz\u001b[0m \u001b[1;32mimport\u001b[0m \u001b[0mCircosPlot\u001b[0m\u001b[1;33m\u001b[0m\u001b[1;33m\u001b[0m\u001b[0m\n\u001b[0m",
      "\u001b[1;31mModuleNotFoundError\u001b[0m: No module named 'nxviz'"
     ]
    }
   ],
   "source": [
    "#!pip install --user nxviz\n",
    "#from nxviz import CircosPlot"
   ]
  },
  {
   "cell_type": "code",
   "execution_count": 197,
   "metadata": {},
   "outputs": [
    {
     "name": "stdout",
     "output_type": "stream",
     "text": [
      "577\n",
      "269\n"
     ]
    }
   ],
   "source": [
    "print(testgraph.number_of_nodes())\n",
    "print(testgraph.number_of_edges())"
   ]
  },
  {
   "cell_type": "code",
   "execution_count": 204,
   "metadata": {},
   "outputs": [
    {
     "data": {
      "image/png": "[encoded data removed]",
      "text/plain": [
       "<Figure size 432x288 with 1 Axes>"
      ]
     },
     "metadata": {},
     "output_type": "display_data"
    }
   ],
   "source": [
    "#test_graph = nx.Graph()\n",
    "for word_count in token_counts.items():\n",
    "    test_graph.add_node(word_count[0] , size = word_count[1])\n",
    "\n",
    "for pair in word_pairs:\n",
    "    edge_weight = model.wv.similarity(pair[0],pair[1])\n",
    "    if edge_weight > .99999:\n",
    "        test_graph.add_edge(pair[0],pair[1],weight = edge_weight)\n",
    "nx.draw(test_graph)\n",
    "plt.show()\n",
    "#nx.write_gexf(tweet_graph,path=r'./tweet_graph.gexf') "
   ]
  },
  {
   "cell_type": "code",
   "execution_count": 201,
   "metadata": {},
   "outputs": [],
   "source": [
    "#test_graph.node(50)"
   ]
  },
  {
   "cell_type": "code",
   "execution_count": 202,
   "metadata": {},
   "outputs": [
    {
     "data": {
      "text/plain": [
       "577"
      ]
     },
     "execution_count": 202,
     "metadata": {},
     "output_type": "execute_result"
    }
   ],
   "source": [
    "test_graph.number_of_nodes()"
   ]
  },
  {
   "cell_type": "code",
   "execution_count": 205,
   "metadata": {},
   "outputs": [
    {
     "data": {
      "text/plain": [
       "269"
      ]
     },
     "execution_count": 205,
     "metadata": {},
     "output_type": "execute_result"
    }
   ],
   "source": [
    "test_graph.number_of_edges()"
   ]
  },
  {
   "cell_type": "code",
   "execution_count": 92,
   "metadata": {},
   "outputs": [
    {
     "ename": "TypeError",
     "evalue": "'int' object is not subscriptable",
     "output_type": "error",
     "traceback": [
      "\u001b[1;31m---------------------------------------------------------------------------\u001b[0m",
      "\u001b[1;31mTypeError\u001b[0m                                 Traceback (most recent call last)",
      "\u001b[1;32m<ipython-input-92-9410939ee2bc>\u001b[0m in \u001b[0;36m<module>\u001b[1;34m\u001b[0m\n\u001b[0;32m      6\u001b[0m \u001b[1;33m\u001b[0m\u001b[0m\n\u001b[0;32m      7\u001b[0m \u001b[1;32mfor\u001b[0m \u001b[0mword_count\u001b[0m \u001b[1;32min\u001b[0m \u001b[0mrange\u001b[0m\u001b[1;33m(\u001b[0m\u001b[0mlen\u001b[0m\u001b[1;33m(\u001b[0m\u001b[0mt_vect\u001b[0m\u001b[1;33m.\u001b[0m\u001b[0midf_\u001b[0m\u001b[1;33m)\u001b[0m\u001b[1;33m)\u001b[0m\u001b[1;33m:\u001b[0m\u001b[1;33m\u001b[0m\u001b[1;33m\u001b[0m\u001b[0m\n\u001b[1;32m----> 8\u001b[1;33m     \u001b[0mtest_1_graph\u001b[0m\u001b[1;33m.\u001b[0m\u001b[0madd_node\u001b[0m\u001b[1;33m(\u001b[0m\u001b[0mword_count\u001b[0m\u001b[1;33m[\u001b[0m\u001b[1;36m0\u001b[0m\u001b[1;33m,\u001b[0m\u001b[1;33m]\u001b[0m\u001b[1;33m,\u001b[0m \u001b[0mtfidf\u001b[0m \u001b[1;33m=\u001b[0m \u001b[0mword_count\u001b[0m\u001b[1;33m[\u001b[0m\u001b[1;36m1\u001b[0m\u001b[1;33m,\u001b[0m\u001b[1;33m]\u001b[0m\u001b[1;33m)\u001b[0m\u001b[1;33m\u001b[0m\u001b[1;33m\u001b[0m\u001b[0m\n\u001b[0m\u001b[0;32m      9\u001b[0m     \u001b[0mtest_1_graph\u001b[0m\u001b[1;33m.\u001b[0m\u001b[0madd_node\u001b[0m\u001b[1;33m(\u001b[0m\u001b[0mt_vect\u001b[0m\u001b[1;33m.\u001b[0m\u001b[0mget_feature_names\u001b[0m\u001b[1;33m(\u001b[0m\u001b[1;33m)\u001b[0m\u001b[1;33m[\u001b[0m\u001b[0mword_count\u001b[0m\u001b[1;33m]\u001b[0m\u001b[1;33m,\u001b[0m \u001b[0mtfidf\u001b[0m \u001b[1;33m=\u001b[0m \u001b[0mt_vect\u001b[0m\u001b[1;33m.\u001b[0m\u001b[0midf_\u001b[0m\u001b[1;33m[\u001b[0m\u001b[0mword_count\u001b[0m\u001b[1;33m]\u001b[0m\u001b[1;33m)\u001b[0m\u001b[1;33m\u001b[0m\u001b[1;33m\u001b[0m\u001b[0m\n\u001b[0;32m     10\u001b[0m \u001b[1;33m\u001b[0m\u001b[0m\n",
      "\u001b[1;31mTypeError\u001b[0m: 'int' object is not subscriptable"
     ]
    }
   ],
   "source": [
    "num_words = 10\n",
    "test_1_graph = nx.Graph()\n",
    "# for word_count in token_counts.items():\n",
    "#     for word_count in t_vect.vocabulary_.items():\n",
    "#        test_1_graph.add_node(word_count[0], count= word_count[1])\n",
    "\n",
    "for word_count in range(len(t_vect.idf_)):\n",
    "    test_1_graph.add_node(word_count[0], tfidf = word_count[1])\n",
    "    test_1_graph.add_node(t_vect.get_feature_names()[word_count], tfidf = t_vect.idf_[word_count])\n",
    "\n",
    "#for word in list(opt_vector_model.wv.vocab.keys()):\n",
    "#    word_scores = opt_vector_model.wv.most_similar(word, topn=num_words)\n",
    "#    for i in range(num_words):\n",
    "#        tweet_graph.add_edge(word,word_scores[i][0],weight=word_scores[i][1])\n",
    "#nx.write_gexf(tweet_graph,path=f'./tweet_graph_{num_words}_tfidf.gexf')\n",
    "\n",
    "nx.draw(test_1_graph)"
   ]
  }
 ],
 "metadata": {
  "kernelspec": {
   "display_name": "Python 3",
   "language": "python",
   "name": "python3"
  },
  "language_info": {
   "codemirror_mode": {
    "name": "ipython",
    "version": 3
   },
   "file_extension": ".py",
   "mimetype": "text/x-python",
   "name": "python",
   "nbconvert_exporter": "python",
   "pygments_lexer": "ipython3",
   "version": "3.7.3"
  }
 },
 "nbformat": 4,
 "nbformat_minor": 2
}
