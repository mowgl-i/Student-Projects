{
  "nbformat": 4,
  "nbformat_minor": 0,
  "metadata": {
    "colab": {
      "name": "Collect_LSF_data.ipynb",
      "provenance": [],
      "toc_visible": true,
      "mount_file_id": "1Xx-AfHBYpbyTBxrL9q83EjKiC_DMKr8s",
      "authorship_tag": "ABX9TyNJT4XFi9a3rtTl//kr5i9r",
      "include_colab_link": true
    },
    "kernelspec": {
      "name": "python3",
      "display_name": "Python 3"
    }
  },
  "cells": [
    {
      "cell_type": "markdown",
      "metadata": {
        "id": "view-in-github",
        "colab_type": "text"
      },
      "source": [
        "<a href=\"https://colab.research.google.com/github/mowgl-i/Student-Projects/blob/master/Collect_LSF_data.ipynb\" target=\"_parent\"><img src=\"https://colab.research.google.com/assets/colab-badge.svg\" alt=\"Open In Colab\"/></a>"
      ]
    },
    {
      "cell_type": "markdown",
      "metadata": {
        "id": "o_MubwTGm6ub"
      },
      "source": [
        "# This will be the python notebook to collect data?"
      ]
    },
    {
      "cell_type": "code",
      "metadata": {
        "id": "B4ufNaxZm6Zs",
        "outputId": "9500b84e-e190-4c08-a46c-5feaeeafb1d6",
        "colab": {
          "base_uri": "https://localhost:8080/"
        }
      },
      "source": [
        "from google.colab import auth\n",
        "auth.authenticate_user()\n",
        "print('Authenticated')"
      ],
      "execution_count": 1,
      "outputs": [
        {
          "output_type": "stream",
          "text": [
            "Authenticated\n"
          ],
          "name": "stdout"
        }
      ]
    },
    {
      "cell_type": "code",
      "metadata": {
        "id": "yKF1ic4PmuBJ"
      },
      "source": [
        "%load_ext google.colab.data_table"
      ],
      "execution_count": null,
      "outputs": []
    },
    {
      "cell_type": "code",
      "metadata": {
        "id": "CRlh1aAc67Dp"
      },
      "source": [
        "%%bigquery --project livestreamfail lsf_data\n",
        "SELECT title, score, url, date(timestamp_seconds(created_utc)) AS date, domain, author, permalink,id,stickied,subreddit_id,ups,downs\n",
        "FROM `fh-bigquery.reddit_posts.20*`\n",
        "WHERE _TABLE_SUFFIX > '16'\n",
        "AND lower(subreddit) = 'livestreamfail'\n",
        "AND score > 35 # completed in 00:00:10 biilled 133.99 gb"
      ],
      "execution_count": 2,
      "outputs": []
    },
    {
      "cell_type": "code",
      "metadata": {
        "id": "IllktONy_b_3"
      },
      "source": [
        "lsf_data.to_csv('/content/drive/My Drive/data/lsf_posts.csv')"
      ],
      "execution_count": 9,
      "outputs": []
    },
    {
      "cell_type": "code",
      "metadata": {
        "id": "pfuikxs3ONpc"
      },
      "source": [
        "%%bigquery --project livestreamfail lsf_comments\n",
        "SELECT body, score, created_utc , author,id,subreddit_id,ups,downs, parent_id\n",
        "FROM `fh-bigquery.reddit_comments.20*`\n",
        "WHERE _TABLE_SUFFIX > '16'\n",
        "AND lower(subreddit) = 'livestreamfail'\n",
        "AND score > 5 # completed in 00:00:58 billeed 1.02 tb :("
      ],
      "execution_count": 10,
      "outputs": []
    },
    {
      "cell_type": "code",
      "metadata": {
        "id": "mAKw-Im8PsO5"
      },
      "source": [
        "lsf_comments.to_csv('/content/drive/My Drive/data/lsf_comments.csv')"
      ],
      "execution_count": 12,
      "outputs": []
    }
  ]
}